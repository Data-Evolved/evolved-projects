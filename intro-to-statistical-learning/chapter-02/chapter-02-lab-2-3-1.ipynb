{
 "cells": [
  {
   "cell_type": "markdown",
   "metadata": {},
   "source": [
    "# 2.3 Lab: Introduction to ~~R~~ Python\n",
    "\n",
    "## 2.3.1 Basic Commands\n",
    "\n",
    "In this lab, we will work through some basic commands in Python that mirror the functionality that we need in R. \n",
    "\n",
    "### Libraries\n",
    "\n",
    "Python has native structures for storing data, but other libraries are used for more advanced data structures and data manipulation. The 2 most popular ones and an additional library to help with R data sets are: \n",
    "\n",
    "* `numpy` (NumPy) is a package for scientific computing with powerful arrays. https://numpy.org/\n",
    "* `pandas` is a library for high-performance, easy-to-use data structures and data analysis tools. https://pandas.pydata.org/pandas-docs/stable/index.html\n",
    "* `statsmodels` a library that can be used to load R data sets and replicate some of the functionality in R.\n",
    "\n",
    "Common graphic libraries used within Python are: \n",
    "\n",
    "* `matplotlib` is a comprehensive library for creating static, animated, and interactive visualizations in Python. https://matplotlib.org/\n",
    "* `seaborn` is a library for making statistical graphics in Python and is built on top of matplotlib. https://seaborn.pydata.org/introduction.html\n",
    "\n",
    "The main library used for statistics and machine learning is: \n",
    "\n",
    "* `sklearn` (scikit-learn): a library for machine learning https://scikit-learn.org/stable/\n",
    "\n",
    "\n",
    "We will be mapping the functionality between R objects and functions to Python objects and structures. \n",
    "\n",
    "### Imports\n",
    "In R, we use the `library` function to import objects, functions, and data into the local namespace for usage. In Python, we will use the `import` statement to import libraries. \n",
    "\n",
    "There are a few built-in libraries that we can use along with third-party libaraies. Many of the third-part libraries have common used aliases that can be confusing for beginners to remember or to lookup. Most of the examples will not use an alias for the library to reduce confusion (and future conflict as alias are social conventions and not enforced, restricted mutual exclusive designations).\n",
    "\n",
    "You can also import specific classes from a namespace directly into the local namespace so you do not have to deep reference them. This is used sparingly where it improves code readability and ensures not conflicts within the local namespace. \n",
    "\n",
    "**Example** \n",
    "```Python\n",
    "import sklearn  # specific namespace import\n",
    "from sklearn.model_selection import GridSearchCV  # single class import\n",
    "\n",
    "# now the SearchGridCV class is referencable by the full namespace or the class namespace\n",
    "sklearn.model_selection.GridSearchCV(estimator = None, param_grid = {})\n",
    "GridSearchCV(estimator = None, param_grid = {})\n",
    "```\n",
    "\n"
   ]
  },
  {
   "cell_type": "code",
   "execution_count": 1,
   "metadata": {},
   "outputs": [],
   "source": [
    "from typing import List, Dict, Tuple, Sequence, Union # annotation library\n",
    "import sys # system library \n",
    "\n",
    "import statsmodels # root namespace for intellisense and deep reference\n",
    "import statsmodels.api as statsModels # alias to hide the extra api namespace\n",
    "\n",
    "import scipy\n",
    "import numpy   # as np\n",
    "import pandas  # as pd\n",
    "\n",
    "from sklearn import * # import all child namespaces \n",
    "\n",
    "import matplotlib.pyplot as pyplot\n",
    "import seaborn \n"
   ]
  },
  {
   "cell_type": "markdown",
   "metadata": {},
   "source": [
    "### Vectors, Arrays, and NumPy\n",
    "\n",
    "Vectors are 1-dimensional arrays that hold primitive data types (generally) and can dynamically resize (shrink or grow) as needed. Python has a native type for a `List` collection which is an ordered and changable single dimension array. NumPy provides additional support for arrays and more advanced manipulation.\n",
    "\n",
    "**R Code**\n",
    "```R\n",
    "x = c (1, 3, 2, 5)   # concatenate into vector \n",
    "x                    # print the vector\n",
    "### output ###\n",
    "[1] 1 3 2 5 \n",
    "\n",
    "x = c (1, 6, 2)\n",
    "x \n",
    "### output ###\n",
    "[1] 1 6 2 \n",
    "\n",
    "y = c (1, 4, 3)\n",
    "```\n",
    "\n",
    "In Python, we can using the `typing` library to optionally annotate the typing of the data type of list. Typing is only annotation or documentation. It does not enforce the data type. Each element in the list can have a different data type. You can see the style guide about type hinting and annotations and where it can be useful and where it can be duplicative."
   ]
  },
  {
   "cell_type": "code",
   "execution_count": 2,
   "metadata": {},
   "outputs": [
    {
     "output_type": "stream",
     "name": "stdout",
     "text": "list 1\n[1, 3, 2, 5]\n<class 'int'>\n\nlist 2\n[1.0, 3.0, 2.0, 5.0]\n<class 'float'>\n\nlist 3 data types\n<class 'str'>\n<class 'int'>\n<class 'float'>\n<class 'numpy.ndarray'>\n"
    }
   ],
   "source": [
    "# creating list collections, showing annotations, and mixed list\n",
    "list1: List [int] = [1, 3, 2, 5]\n",
    "list2: List [float] = [1.0, 3.0, 2.0, 5.0]\n",
    "list3: List = [\"a\", 1, 2.0, numpy.array ([1, 2, 3, 4])]\n",
    "\n",
    "print (\"list 1\")\n",
    "print (list1)\n",
    "print (type (list1 [0]))\n",
    "\n",
    "print (\"\\nlist 2\")\n",
    "print (list2)\n",
    "print (type (list2 [0]))\n",
    "\n",
    "print (\"\\nlist 3 data types\")\n",
    "print (type (list3 [0]))\n",
    "print (type (list3 [1]))\n",
    "print (type (list3 [2]))\n",
    "print (type (list3 [3]))"
   ]
  },
  {
   "cell_type": "markdown",
   "metadata": {},
   "source": [
    "So lists may not be the best way to store data for most of our purposes. We can use the `numpy.array` function (a factory function) to generate arrays from the `numpy.ndarray` class, which is a multi-dimensional array class of the same data type with high performance operations. Both `SciPy` and `NumPy` have support for optimized functions and operations such as linear algebra. \n",
    "\n",
    "```Python\n",
    "\n",
    "# creates an instance of the numpy.ndarray class\n",
    "numpy.array (object, dtype = None, copy = True, order = \"K\", subok = False, ndmin = 0) -> numpy.ndarray\n",
    "\n",
    "```"
   ]
  },
  {
   "cell_type": "code",
   "execution_count": 3,
   "metadata": {},
   "outputs": [
    {
     "output_type": "stream",
     "name": "stdout",
     "text": "[1 3 2 5]\n[1 6 2]\n[1 4 3]\n"
    }
   ],
   "source": [
    "# let's create the same code as in R here as a vector\n",
    "x: numpy.ndarray = numpy.array ([1, 3, 2, 5])\n",
    "print (x)\n",
    "\n",
    "x = numpy.array ([1, 6, 2])\n",
    "print (x)\n",
    "\n",
    "y = numpy.array ([1, 4, 3])\n",
    "print (y)"
   ]
  },
  {
   "cell_type": "markdown",
   "metadata": {},
   "source": [
    "When we want to know the dimensions of an array (of `ndarray`), we want to use the `shape` property of class that will return a tuple with an element for each dimension that contains that dimension's length. In R, with vectors, we simply use the `length()` function. In Python, it would be better to be consistent in using the `shape` property even for 1-dimensional arrays.\n",
    "\n",
    "When we use an operator on 2 vectors in R, we get that operation over the elements of the vector, so that `x + y` becomes `1 + 1, 6 + 4, 2 + 3`. Python supports elementwise operations for ndarray objects, too.\n",
    "\n",
    "**R Code**\n",
    "```R\n",
    "length (x)\n",
    "[1] 3\n",
    "\n",
    "length (y)\n",
    "[1] 3\n",
    "\n",
    "x + y\n",
    "[1] 2 10 5 \n",
    "```"
   ]
  },
  {
   "cell_type": "code",
   "execution_count": 4,
   "metadata": {},
   "outputs": [
    {
     "output_type": "stream",
     "name": "stdout",
     "text": "length of x is 3\nlength of y is 3\nx + y elementwise operation\n[ 2 10  5]\n"
    }
   ],
   "source": [
    "# get the length of the first dimension of the array \n",
    "print (\"length of x is {:d}\".format (x.shape [0]))\n",
    "print (\"length of y is {:d}\".format (y.shape [0]))\n",
    "\n",
    "print (\"x + y elementwise operation\")\n",
    "print (x + y)"
   ]
  },
  {
   "cell_type": "markdown",
   "metadata": {},
   "source": [
    "### Variables in Memory and Removal \n",
    "\n",
    "R allows us to expect the variables defined in memory (the global environment) and remove them. Python has similar functionality but requires a little more work to separate functions and variables. \n",
    "\n",
    "**R Code** \n",
    "```R\n",
    "ls ()\n",
    "### output ###\n",
    "[1] \"x\" \"y\"\n",
    "\n",
    "rm (x, y)\n",
    "ls ()\n",
    "### output ###\n",
    "character (0) \n",
    "\n",
    "rm (list = ls ())\n",
    "```\n",
    "\n",
    "Python offers a couple of ways to inspect in memory variables but not quite as simply as R. You can use the `dir()` function to list the objects within a namespace or `global()` and `local()` to list those scopes. They all will return more than just variables. They will return class definitions, modules, and functions, too. \n",
    "\n",
    "In IPython  (like in Notebooks), we can use the `%whos` built-in magic command that provides a more detailed list. "
   ]
  },
  {
   "cell_type": "code",
   "execution_count": 5,
   "metadata": {},
   "outputs": [
    {
     "output_type": "execute_result",
     "data": {
      "text/plain": "[('list1', \"<class 'list'>\"),\n ('list2', \"<class 'list'>\"),\n ('list3', \"<class 'list'>\"),\n ('x', \"<class 'numpy.ndarray'>\"),\n ('y', \"<class 'numpy.ndarray'>\")]"
     },
     "metadata": {},
     "execution_count": 5
    }
   ],
   "source": [
    "# get a list of tuples (variable name, type) from globals \n",
    "variables = list (map (lambda variableName: (variableName, str (type (globals () [variableName]))), dir ()))\n",
    "\n",
    "# filter the list (as much as possible) to just variables\n",
    "variables = list (filter (lambda variable: (\n",
    "        not (variable[0].startswith (\"_\"))      # no private/protected variables\n",
    "        and not (variable [0] in [\"In\", \"Out\"]) # IPython variables\n",
    "        and not (\"'IPython\" in variable [1])    # no IPython \n",
    "        and not (\"'module'\" in variable [1])    # no modules/namespaces\n",
    "        and not (\"'method'\" in variable [1])    # no methods\n",
    "        and not (\"'function'\" in variable [1])  # no functions\n",
    "        and not (\"'typing\"  in variable [1])  # no typing support\n",
    "        ), variables))\n",
    "\n",
    "# print variable list \n",
    "variables "
   ]
  },
  {
   "cell_type": "code",
   "execution_count": 6,
   "metadata": {},
   "outputs": [],
   "source": [
    "# remove variables from memory \n",
    "del variables, x, y"
   ]
  },
  {
   "cell_type": "markdown",
   "metadata": {},
   "source": [
    "### Matrix\n",
    "\n",
    "R has the `Matrix()` function, `as.matrix`, and `is.matrix` function. They are an extension of numeric and character vectors. \n",
    "\n",
    "In Python, we will use the `numpy.ndarray` for matrices. This will alow multi-dimensional arrays of different data types. \n",
    "\n",
    "To retreive the documentation (if available and generally the docstring), we can use the `help()` function. In this example, we could use `help (numpy.ndarray)` to retrieve the documentation. This was not included due to length requirements and `textOutputLimit` settings. \n",
    "\n",
    "Matrix operations are elementwise operations. There are operators and functions that match between R and Python (using functions in the `numpy` namespace). But it is important to note that in Python the `^` operator is the bit-wise xor and not the power operator, which is `**`.\n",
    "\n",
    "**R Code**\n",
    "```R\n",
    "# display help about matrix function \n",
    "?matrix \n",
    "\n",
    "# initialize a 2x2 matrix with values by column (default)\n",
    "x = matrix (data = c (1, 2, 3, 4), nrow = 2, nol = 2) \n",
    "\n",
    "# initialize a 2x2 matrix with values by row (must be specified)\n",
    "x = matrix (data = c (1, 2, 3, 4), nrow = 2, nol = 2, byrow = TRUE) \n",
    "\n",
    "# square root the matrix, elementwise\n",
    "sqrt (x)\n",
    "\n",
    "# raise the matrix to the power of 2, elementwise\n",
    "x^2\n",
    "```\n"
   ]
  },
  {
   "cell_type": "code",
   "execution_count": 7,
   "metadata": {},
   "outputs": [
    {
     "output_type": "stream",
     "name": "stdout",
     "text": "\ncolumn ordered matrix\n[[1 3]\n [2 4]]\n\nrow ordered matrix\n[[1 2]\n [3 4]]\n\nindeterminate row length\n[[0 5]\n [1 6]\n [2 7]\n [3 8]\n [4 9]]\n\nindeterminate column length\n[[0 1 2 3 4]\n [5 6 7 8 9]]\n"
    }
   ],
   "source": [
    "# help (numpy.ndarray)\n",
    "\n",
    "# initialize a 2x2 matrix with values by column\n",
    "# we will use the single dimension array, reshape it into 2x2 and change the default \n",
    "# order from `order = \"C\"` to `order = \"F\"`\n",
    "x = numpy.array ([1, 2, 3, 4]).reshape (2, 2, order = \"F\")\n",
    "print (\"\\ncolumn ordered matrix\")\n",
    "print (x)\n",
    "\n",
    "# initialize a 2x2 matrix with values by row, allow the default order \n",
    "x = numpy.array ([1, 2, 3, 4]).reshape (2, 2)\n",
    "print (\"\\nrow ordered matrix\")\n",
    "print (x)\n",
    "\n",
    "# we can specify -1 in the reshape to specify an indeterminate length \n",
    "# indeterminate number of rows, fixed number of columns\n",
    "x = numpy.arange (0, 10).reshape (-1, 2, order = \"F\")\n",
    "print (\"\\nindeterminate row length\")\n",
    "print (x)\n",
    "\n",
    "# indeterminate number of rows, fixed number of columns\n",
    "x = numpy.arange (0, 10).reshape (2, -1)\n",
    "print (\"\\nindeterminate column length\")\n",
    "print (x)"
   ]
  },
  {
   "cell_type": "code",
   "execution_count": 8,
   "metadata": {},
   "outputs": [
    {
     "output_type": "stream",
     "name": "stdout",
     "text": "\ncolumn ordered matrix\n[[1 3]\n [2 4]]\n\n sqrt of matrix, by element\n[[1.   1.73]\n [1.41 2.  ]]\n\n sqrt of matrix, by element using square function\n[[ 1  9]\n [ 4 16]]\n\n sqrt of matrix, by element using power function\n[[ 1  9]\n [ 4 16]]\n\n sqrt of matrix, by element using * operator\n[[ 1  9]\n [ 4 16]]\n\n sqrt of matrix, by element using ** operator\n[[ 1  9]\n [ 4 16]]\n"
    }
   ],
   "source": [
    "# reset initialize a 2x2 matrix with values by row, allow the default order \n",
    "x = numpy.array ([1, 2, 3, 4]).reshape (2, 2, order = \"F\")\n",
    "print (\"\\ncolumn ordered matrix\")\n",
    "print (x)\n",
    "\n",
    "# matrix operations sqrt by element \n",
    "print (\"\\n sqrt of matrix, by element\")\n",
    "print (numpy.sqrt (x).round (2))\n",
    "\n",
    "# matrix operation square by element\n",
    "print (\"\\n sqrt of matrix, by element using square function\")\n",
    "print (numpy.square (x).round (2))\n",
    "\n",
    "# matrix operation square by element\n",
    "print (\"\\n sqrt of matrix, by element using power function\")\n",
    "print (numpy.power (x, 2).round (2))\n",
    "\n",
    "# matrix operation square by element\n",
    "print (\"\\n sqrt of matrix, by element using * operator\")\n",
    "print ((x * x).round (2))\n",
    "\n",
    "# matrix operation square by element\n",
    "print (\"\\n sqrt of matrix, by element using ** operator\")\n",
    "print ((x ** 2).round (2))\n"
   ]
  },
  {
   "cell_type": "markdown",
   "metadata": {},
   "source": [
    "### Random Numbers \n",
    "\n",
    "R provides a set of functions for generating random numbers based on a distribution. The naming convention for these functions are a prefix followed by the distribution. \n",
    "\n",
    "```\n",
    "d{distribution-name} - probability density function (PDF)\n",
    "p{distribution-name} - cumulative distribution function (CDF)\n",
    "q{distribution-name} - quantile function (CDF inverse)\n",
    "r{distribution-name} - random sample \n",
    "```\n",
    "\n",
    "The `rnorm()` function generates random numbers from a normal distribution with the parameters `n` for sample size, `mean` for the mean, and `sd` for the standard deviation. The default is `mean = 0` and `sd = 1`. \n",
    "\n",
    "We can use the `set.seed` function to set a starting seed for generating random numbers that will allow for generating the same extact numbers every time. \n",
    "\n",
    "In Python, we can use the distributions in `numpy.random` namespace to generate random samples. The equivalent for `nrorm` is `numpy.random.normal`, and it supports location (`loc`), `scale`, and `size` of sample. \n",
    "\n",
    "**R Code**\n",
    "```\n",
    "x = rnorm (50)\n",
    "y = x + rnorm (50, mean = 50, sd = 0.1)\n",
    "cor (x, y)\n",
    "\n",
    "set.seed (1303)\n",
    "rnorm (50)\n",
    "```"
   ]
  },
  {
   "cell_type": "code",
   "execution_count": 13,
   "metadata": {},
   "outputs": [
    {
     "output_type": "stream",
     "name": "stdout",
     "text": "scipy correlation 0.992\nnumpy correlation 0.992\npandas correlation 0.992\n"
    }
   ],
   "source": [
    "# sample the normal distribution \n",
    "x = numpy.random.normal (size = 50)\n",
    "y = x + numpy.random.normal (loc = 50, scale = 0.1, size = 50)\n",
    "\n",
    "# get the correlation matrix between the x and y variables\n",
    "# and get the pearson correlation coefficient\n",
    "print (\"scipy correlation {:.3f}\".format (scipy.stats.pearsonr (x, y)[0]))\n",
    "print (\"numpy correlation {:.3f}\".format (numpy.corrcoef (x, y)[0, 1]))\n",
    "\n",
    "# using pandas data frames\n",
    "# correlation between 2 variables in a dataframe \n",
    "df = pandas.DataFrame ({ \"x\": x, \"y\": y })\n",
    "print (\"pandas correlation {:.3f}\".format (df [\"x\"].corr (df [\"y\"])))"
   ]
  },
  {
   "cell_type": "code",
   "execution_count": 10,
   "metadata": {},
   "outputs": [
    {
     "output_type": "execute_result",
     "data": {
      "text/plain": "array([-0.03425693,  0.06035959,  0.45511859, -0.36593175, -1.6773304 ,\n        0.5910023 ,  0.41090101,  0.46972388, -1.50462476, -0.70082238,\n        1.43196963,  0.35474484,  1.67574682,  1.62741373,  0.27015354,\n        0.15248539,  0.11593596,  0.89272237, -2.16627436,  0.26787192,\n        0.36658207,  2.72335408,  0.44060293,  0.36036757,  0.38119264,\n       -0.27845602,  1.73458476, -1.48138111, -0.47556927, -0.1932596 ,\n        0.68115816, -0.05143463, -0.59151688,  0.02292374, -0.12259196,\n        0.50633508,  0.63181139, -0.2443932 ,  0.39847385, -1.2716468 ,\n        0.43167303, -1.36491646,  0.91004701,  0.65707308, -0.080445  ,\n       -1.12057881, -1.31479423,  0.26394714, -0.59459381, -0.07624482])"
     },
     "metadata": {},
     "execution_count": 10
    }
   ],
   "source": [
    "# setting the global seed \n",
    "numpy.random.seed (1303)\n",
    "numpy.random.normal (size = 50)"
   ]
  },
  {
   "cell_type": "markdown",
   "metadata": {},
   "source": [
    "### Mean, Variance, and Standard Deviation\n",
    "\n",
    "When dealing with arrays, we can use the `numpy` namespace and functions `mean`, `var`, and `std`. When the data is in a `pandas.DataFrame`, we can reference the individual column and use the method `mean`, `var`, and `std`.\n",
    "\n",
    "**R Code**\n",
    "```\n",
    "set.seed (3)\n",
    "y = rnorm (100)\n",
    "mean (y)\n",
    "var (y)\n",
    "sqrt (var (y))\n",
    "sd (y)\n",
    "```"
   ]
  },
  {
   "cell_type": "code",
   "execution_count": 11,
   "metadata": {},
   "outputs": [
    {
     "output_type": "stream",
     "name": "stdout",
     "text": "numpy mean -0.109\nnumpy var  1.132\nnumpy sqrt (var) 1.064\nnumpy sd 1.064\n"
    }
   ],
   "source": [
    "# set random seed and generate a 100 number sample\n",
    "numpy.random.seed (3)\n",
    "y = numpy.random.normal (size = 100)\n",
    "\n",
    "# mean, variance, standard deviation\n",
    "print (\"numpy mean {:.3f}\".format (numpy.mean (y)))\n",
    "print (\"numpy var  {:.3f}\".format (numpy.var (y)))\n",
    "print (\"numpy sqrt (var) {:.3f}\".format (numpy.sqrt (numpy.var (y))))\n",
    "print (\"numpy sd {:.3f}\".format (numpy.std (y)))"
   ]
  },
  {
   "cell_type": "code",
   "execution_count": 12,
   "metadata": {},
   "outputs": [
    {
     "output_type": "stream",
     "name": "stdout",
     "text": "pandas mean -0.109\npandas var  1.144\npandas sqrt (var)  1.069\npandas std  1.069\n"
    }
   ],
   "source": [
    "# pandas version of mean, variance, standard deviation\n",
    "df = pandas.DataFrame ({ \"y\": y }) # recreate data frame with just y to match\n",
    "print (\"pandas mean {:.3f}\".format (df [\"y\"].mean ()))\n",
    "print (\"pandas var  {:.3f}\".format (df [\"y\"].var ()))\n",
    "print (\"pandas sqrt (var)  {:.3f}\".format (numpy.sqrt (df [\"y\"].var ())))\n",
    "print (\"pandas std  {:.3f}\".format (df [\"y\"].std ()))"
   ]
  },
  {
   "cell_type": "code",
   "execution_count": null,
   "metadata": {},
   "outputs": [],
   "source": []
  }
 ],
 "metadata": {
  "language_info": {
   "codemirror_mode": {
    "name": "ipython",
    "version": 3
   },
   "file_extension": ".py",
   "mimetype": "text/x-python",
   "name": "python",
   "nbconvert_exporter": "python",
   "pygments_lexer": "ipython3",
   "version": "3.8.2-final"
  },
  "orig_nbformat": 2,
  "kernelspec": {
   "name": "python38264bita9ab4c9f5bfd4fe1b70b825952675139",
   "display_name": "Python 3.8.2 64-bit"
  }
 },
 "nbformat": 4,
 "nbformat_minor": 2
}