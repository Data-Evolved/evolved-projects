{
 "cells": [
  {
   "cell_type": "markdown",
   "metadata": {},
   "source": [
    "# 2.3 Lab: Introduction to ~~R~~ Python\n",
    "\n",
    "## 2.3.4 Loading Data \n",
    "\n",
    "In this lab, we will work through loading external data. Some libraries that will help are: \n",
    "\n",
    "* `os` This module provides a portable way of using operating system dependent functionality.  https://docs.python.org/3/library/os.html\n",
    "* `pathlib` This module offers classes representing filesystem paths with semantics appropriate for different operating systems. https://docs.python.org/3/library/pathlib.html\n",
    "* `statsmodels` - contains methods for loading R data from R packages. \n",
    "\n",
    "### Imports\n"
   ]
  },
  {
   "cell_type": "code",
   "execution_count": 1,
   "metadata": {},
   "outputs": [],
   "source": [
    "from typing import List, Dict, Tuple, Sequence, Union # annotation library\n",
    "import sys # system library \n",
    "import os\n",
    "import pathlib\n",
    "import tempfile\n",
    "\n",
    "import statsmodels # root namespace for intellisense and deep reference\n",
    "import statsmodels.api as statsModels # alias to hide the extra api namespace\n",
    "\n",
    "import numpy   # as np\n",
    "import pandas  # as pd\n",
    "\n",
    "from sklearn import * # import all child namespaces \n",
    "\n",
    "import matplotlib.pyplot as pyplot\n",
    "from mpl_toolkits import mplot3d   # matplotlib 3d plotting\n",
    "import seaborn "
   ]
  },
  {
   "cell_type": "markdown",
   "metadata": {},
   "source": [
    "Loading Data from R Packages\n",
    "\n",
    "We can use the `statsmodels` package to load data from R libraries. We first call `get_rdataset` method from the `statsmodels.api.datasets` namespace to create a data set reference. Then, we create the `pandas` data frame from the `data` property of the data set. \n",
    "\n",
    "Notice that the difference in the `Auto` data frame in the `ISLR` and the `Auto.data` is that the missing value rows have already been removed. The data frame has 392 rows with 9 columns and the original data file has 397 rows. \n",
    "\n",
    "**R Code**\n",
    "```R\n",
    "# this data is also available in the ISLR package \n",
    "# fix function is being used to replace the existing variable assignment\n",
    "\n",
    "# this is the first load without considering the header row \n",
    "# which causes the headers to be row 1\n",
    "Auto = read.table (\"Auto.data\")\n",
    "fix (Auto)\n",
    "\n",
    "# this is the corrected load with the headers loaded as column names\n",
    "Auto = read.table (\"Auto.data\", header = TRUE, na.strings = \"?\")\n",
    "fix (Auto)\n",
    "\n",
    "Auto = read.csv (\"Auto.csv\", header = TRUE, na.strings = \"?\")\n",
    "fix (Auto)\n",
    "dim (Auto)\n",
    "Auto [1:4, ]\n",
    "\n",
    "Auto = na.omit (Auto)\n",
    "dim (Auto)\n",
    "names (Auto)\n",
    "```\n",
    "\n"
   ]
  },
  {
   "cell_type": "code",
   "execution_count": 2,
   "metadata": {},
   "outputs": [
    {
     "output_type": "stream",
     "name": "stdout",
     "text": "+------+-----------------+\n| Auto | R Documentation |\n+------+-----------------+\n\nAuto Data Set\n-------------\n\nDescription\n~~~~~~~~~~~\n\nGas mileage, horsepower, and other information for 392 vehicles.\n\nUsage\n~~~~~\n\n::\n\n   Auto\n\nFormat\n~~~~~~\n\nA data frame with 392 observations on the following 9 variables.\n\n``mpg``\n   miles per gallon\n\n``cylinders``\n   Number of cylinders between 4 and 8\n\n``displacement``\n   Engine displacement (cu. inches)\n\n``horsepower``\n   Engine horsepower\n\n``weight``\n   Vehicle weight (lbs.)\n\n``acceleration``\n   Time to accelerate from 0 to 60 mph (sec.)\n\n``year``\n   Model year (modulo 100)\n\n``origin``\n   Origin of car (1. American, 2. European, 3. Japanese)\n\n``name``\n   Vehicle name\n\nThe orginal data contained 408 observations but 16 observations with\nmissing values were removed.\n\nSource\n~~~~~~\n\nThis dataset was taken from the StatLib library which is maintained at\nCarnegie Mellon University. The dataset was used in the 1983 American\nStatistical Association Exposition.\n\nReferences\n~~~~~~~~~~\n\nJames, G., Witten, D., Hastie, T., and Tibshirani, R. (2013) *An\nIntroduction to Statistical Learning with applications in R*,\n`www.StatLearning.com <www.StatLearning.com>`__, Springer-Verlag, New\nYork\n\nExamples\n~~~~~~~~\n\n::\n\n   pairs(Auto)\n   attach(Auto)\n   hist(mpg)\n\n"
    }
   ],
   "source": [
    "# download the R data set as a pandas DataFrame\n",
    "autoDataSet: statsmodels.datasets.utils.Dataset = statsModels.datasets.get_rdataset (\"Auto\", \"ISLR\")\n",
    "\n",
    "# print out the help information on the data set to get the column documentation\n",
    "print (autoDataSet.__doc__)"
   ]
  },
  {
   "cell_type": "code",
   "execution_count": 3,
   "metadata": {},
   "outputs": [
    {
     "output_type": "stream",
     "name": "stdout",
     "text": "auto data frame shape: (392, 9)\n"
    },
    {
     "output_type": "execute_result",
     "data": {
      "text/plain": "    mpg  cylinders  displacement  horsepower  weight  acceleration  year  \\\n1  18.0          8         307.0         130    3504          12.0    70   \n2  15.0          8         350.0         165    3693          11.5    70   \n3  18.0          8         318.0         150    3436          11.0    70   \n4  16.0          8         304.0         150    3433          12.0    70   \n5  17.0          8         302.0         140    3449          10.5    70   \n\n   origin                       name  \n1       1  chevrolet chevelle malibu  \n2       1          buick skylark 320  \n3       1         plymouth satellite  \n4       1              amc rebel sst  \n5       1                ford torino  ",
      "text/html": "<div>\n<style scoped>\n    .dataframe tbody tr th:only-of-type {\n        vertical-align: middle;\n    }\n\n    .dataframe tbody tr th {\n        vertical-align: top;\n    }\n\n    .dataframe thead th {\n        text-align: right;\n    }\n</style>\n<table border=\"1\" class=\"dataframe\">\n  <thead>\n    <tr style=\"text-align: right;\">\n      <th></th>\n      <th>mpg</th>\n      <th>cylinders</th>\n      <th>displacement</th>\n      <th>horsepower</th>\n      <th>weight</th>\n      <th>acceleration</th>\n      <th>year</th>\n      <th>origin</th>\n      <th>name</th>\n    </tr>\n  </thead>\n  <tbody>\n    <tr>\n      <th>1</th>\n      <td>18.0</td>\n      <td>8</td>\n      <td>307.0</td>\n      <td>130</td>\n      <td>3504</td>\n      <td>12.0</td>\n      <td>70</td>\n      <td>1</td>\n      <td>chevrolet chevelle malibu</td>\n    </tr>\n    <tr>\n      <th>2</th>\n      <td>15.0</td>\n      <td>8</td>\n      <td>350.0</td>\n      <td>165</td>\n      <td>3693</td>\n      <td>11.5</td>\n      <td>70</td>\n      <td>1</td>\n      <td>buick skylark 320</td>\n    </tr>\n    <tr>\n      <th>3</th>\n      <td>18.0</td>\n      <td>8</td>\n      <td>318.0</td>\n      <td>150</td>\n      <td>3436</td>\n      <td>11.0</td>\n      <td>70</td>\n      <td>1</td>\n      <td>plymouth satellite</td>\n    </tr>\n    <tr>\n      <th>4</th>\n      <td>16.0</td>\n      <td>8</td>\n      <td>304.0</td>\n      <td>150</td>\n      <td>3433</td>\n      <td>12.0</td>\n      <td>70</td>\n      <td>1</td>\n      <td>amc rebel sst</td>\n    </tr>\n    <tr>\n      <th>5</th>\n      <td>17.0</td>\n      <td>8</td>\n      <td>302.0</td>\n      <td>140</td>\n      <td>3449</td>\n      <td>10.5</td>\n      <td>70</td>\n      <td>1</td>\n      <td>ford torino</td>\n    </tr>\n  </tbody>\n</table>\n</div>"
     },
     "metadata": {},
     "execution_count": 3
    }
   ],
   "source": [
    "# Get the pandas DataFrame, use copy so that we can re-run from this point \n",
    "# and recover the original data set (non-referenced).\n",
    "autoDataFrame: pandas.core.frame.DataFrame = autoDataSet.data.copy ()\n",
    "\n",
    "# preview the data\n",
    "print (\"auto data frame shape: ({0}, {1})\".format (autoDataFrame.shape [0], autoDataFrame.shape [1]))\n",
    "autoDataFrame.head () \n",
    "\n",
    "# notice that sets the row index name with the offset of 1 and not 0. "
   ]
  },
  {
   "cell_type": "markdown",
   "metadata": {},
   "source": [
    "### Saving and Loading Data from a CSV\n",
    "\n",
    "A comma-separate values (CSV) file is a common file format for data. It generally has text qualified quotes (\"), commas between data columns, and a row terminator that is a carriage return (CR) and line feed (LF). But the extension is commonly used for files that might have other delimitators like tabs or other small changes. It might have headers or not for the column names. \n",
    "\n",
    "It is important to understand the file format before importing. You can use a text editor like Notepad++ to preview the file and see the special characters used. \n",
    "\n",
    "Reading and writing will be to and from `pandas` data frames, which has helpers to facilitate the operations with the following arguments. \n",
    "\n",
    "* `path_or_buf`: str or file handle, default None\n",
    "* `sep: str`: separator, default is `,`\n",
    "* `na_rep: str`: character/string for NA values, default is empty string `''`\n",
    "* `index: bool`: include the index, default is `True` \n",
    "* `quotechar: str`: the text quoted characeter, default (`\"`)\n",
    "* `line_terminator`: the line termintor, default is CRLF\n",
    "\n",
    "More arguments are available to refine the export and import. https://pandas.pydata.org/pandas-docs/stable/reference/api/pandas.DataFrame.to_csv.html\n",
    "\n"
   ]
  },
  {
   "cell_type": "code",
   "execution_count": 4,
   "metadata": {},
   "outputs": [
    {
     "output_type": "stream",
     "name": "stdout",
     "text": "auto 2 data frame shape: (392, 9)\n"
    },
    {
     "output_type": "execute_result",
     "data": {
      "text/plain": "    mpg  cylinders  displacement  horsepower  weight  acceleration  year  \\\n0  18.0          8         307.0         130    3504          12.0    70   \n1  15.0          8         350.0         165    3693          11.5    70   \n2  18.0          8         318.0         150    3436          11.0    70   \n3  16.0          8         304.0         150    3433          12.0    70   \n4  17.0          8         302.0         140    3449          10.5    70   \n\n   origin                       name  \n0       1  chevrolet chevelle malibu  \n1       1          buick skylark 320  \n2       1         plymouth satellite  \n3       1              amc rebel sst  \n4       1                ford torino  ",
      "text/html": "<div>\n<style scoped>\n    .dataframe tbody tr th:only-of-type {\n        vertical-align: middle;\n    }\n\n    .dataframe tbody tr th {\n        vertical-align: top;\n    }\n\n    .dataframe thead th {\n        text-align: right;\n    }\n</style>\n<table border=\"1\" class=\"dataframe\">\n  <thead>\n    <tr style=\"text-align: right;\">\n      <th></th>\n      <th>mpg</th>\n      <th>cylinders</th>\n      <th>displacement</th>\n      <th>horsepower</th>\n      <th>weight</th>\n      <th>acceleration</th>\n      <th>year</th>\n      <th>origin</th>\n      <th>name</th>\n    </tr>\n  </thead>\n  <tbody>\n    <tr>\n      <th>0</th>\n      <td>18.0</td>\n      <td>8</td>\n      <td>307.0</td>\n      <td>130</td>\n      <td>3504</td>\n      <td>12.0</td>\n      <td>70</td>\n      <td>1</td>\n      <td>chevrolet chevelle malibu</td>\n    </tr>\n    <tr>\n      <th>1</th>\n      <td>15.0</td>\n      <td>8</td>\n      <td>350.0</td>\n      <td>165</td>\n      <td>3693</td>\n      <td>11.5</td>\n      <td>70</td>\n      <td>1</td>\n      <td>buick skylark 320</td>\n    </tr>\n    <tr>\n      <th>2</th>\n      <td>18.0</td>\n      <td>8</td>\n      <td>318.0</td>\n      <td>150</td>\n      <td>3436</td>\n      <td>11.0</td>\n      <td>70</td>\n      <td>1</td>\n      <td>plymouth satellite</td>\n    </tr>\n    <tr>\n      <th>3</th>\n      <td>16.0</td>\n      <td>8</td>\n      <td>304.0</td>\n      <td>150</td>\n      <td>3433</td>\n      <td>12.0</td>\n      <td>70</td>\n      <td>1</td>\n      <td>amc rebel sst</td>\n    </tr>\n    <tr>\n      <th>4</th>\n      <td>17.0</td>\n      <td>8</td>\n      <td>302.0</td>\n      <td>140</td>\n      <td>3449</td>\n      <td>10.5</td>\n      <td>70</td>\n      <td>1</td>\n      <td>ford torino</td>\n    </tr>\n  </tbody>\n</table>\n</div>"
     },
     "metadata": {},
     "execution_count": 4
    }
   ],
   "source": [
    "# save the auto data frame to a temporary file \n",
    "tempFileName: str = os.path.join (tempfile.gettempdir (), \"auto.csv\")\n",
    "autoDataFrame.to_csv (path_or_buf = tempFileName, index = False)\n",
    "\n",
    "# reload the data frame into a second pandas data frame and preview \n",
    "autoDataFrame2 = pandas.read_csv (tempFileName)\n",
    "print (\"auto 2 data frame shape: ({0}, {1})\".format (autoDataFrame2.shape [0], autoDataFrame2.shape [1]))\n",
    "autoDataFrame2.head ()"
   ]
  },
  {
   "cell_type": "markdown",
   "metadata": {},
   "source": [
    "### Referencing Locations within the Data Frame\n",
    "\n",
    "We can reference locations within the data frame using `loc` and `iloc` methods to access groups (series) of data along with the `at` and `iat` methods to access cell values.\n",
    "\n",
    "`DataFrame.iloc` - access a group of rows and columns by integer position.\n",
    "\n",
    "`DataFrame.loc` - access a group of rows and columns by label(s).\n",
    "\n",
    "`DataFrame.iat` - access a single value for a row/column pair by integer position. \n",
    "\n",
    "`DataFrame.at`  - access a single value for a row/column pair by label pair. It is important to note that this will use the row name, which might not always start at 0 so that the 1 index is not the same as the row named 1."
   ]
  },
  {
   "cell_type": "code",
   "execution_count": 5,
   "metadata": {},
   "outputs": [
    {
     "output_type": "execute_result",
     "data": {
      "text/plain": "     mpg  cylinders  displacement  horsepower  weight  acceleration  year  \\\n10  15.0          8         390.0         190    3850           8.5    70   \n11  15.0          8         383.0         170    3563          10.0    70   \n12  14.0          8         340.0         160    3609           8.0    70   \n\n    origin                 name  \n10       1   amc ambassador dpl  \n11       1  dodge challenger se  \n12       1   plymouth 'cuda 340  ",
      "text/html": "<div>\n<style scoped>\n    .dataframe tbody tr th:only-of-type {\n        vertical-align: middle;\n    }\n\n    .dataframe tbody tr th {\n        vertical-align: top;\n    }\n\n    .dataframe thead th {\n        text-align: right;\n    }\n</style>\n<table border=\"1\" class=\"dataframe\">\n  <thead>\n    <tr style=\"text-align: right;\">\n      <th></th>\n      <th>mpg</th>\n      <th>cylinders</th>\n      <th>displacement</th>\n      <th>horsepower</th>\n      <th>weight</th>\n      <th>acceleration</th>\n      <th>year</th>\n      <th>origin</th>\n      <th>name</th>\n    </tr>\n  </thead>\n  <tbody>\n    <tr>\n      <th>10</th>\n      <td>15.0</td>\n      <td>8</td>\n      <td>390.0</td>\n      <td>190</td>\n      <td>3850</td>\n      <td>8.5</td>\n      <td>70</td>\n      <td>1</td>\n      <td>amc ambassador dpl</td>\n    </tr>\n    <tr>\n      <th>11</th>\n      <td>15.0</td>\n      <td>8</td>\n      <td>383.0</td>\n      <td>170</td>\n      <td>3563</td>\n      <td>10.0</td>\n      <td>70</td>\n      <td>1</td>\n      <td>dodge challenger se</td>\n    </tr>\n    <tr>\n      <th>12</th>\n      <td>14.0</td>\n      <td>8</td>\n      <td>340.0</td>\n      <td>160</td>\n      <td>3609</td>\n      <td>8.0</td>\n      <td>70</td>\n      <td>1</td>\n      <td>plymouth 'cuda 340</td>\n    </tr>\n  </tbody>\n</table>\n</div>"
     },
     "metadata": {},
     "execution_count": 5
    }
   ],
   "source": [
    "# rows 11 and 12, all columns\n",
    "autoDataFrame.iloc [9:12, :]"
   ]
  },
  {
   "cell_type": "code",
   "execution_count": 6,
   "metadata": {},
   "outputs": [
    {
     "output_type": "execute_result",
     "data": {
      "text/plain": "1    70\n2    70\n3    70\n4    70\n5    70\nName: year, dtype: int64"
     },
     "metadata": {},
     "execution_count": 6
    }
   ],
   "source": [
    "# column year, all rows, head provides first 5 entries \n",
    "autoDataFrame.loc [:, \"year\"].head ()"
   ]
  },
  {
   "cell_type": "code",
   "execution_count": 7,
   "metadata": {},
   "outputs": [
    {
     "output_type": "stream",
     "name": "stdout",
     "text": "an example of access a row with iat and at\nnotice the difference in the row actually returned\n\naccessing with iat index of [10, 3] which is row labeled 11 but index 10 from 0\n170\n\naccessing with at index of [10, \"horsepower\"] which is row labeled 10 but index 9\n190\n"
    },
    {
     "output_type": "execute_result",
     "data": {
      "text/plain": "     mpg  cylinders  displacement  horsepower  weight  acceleration  year  \\\n10  15.0          8         390.0         190    3850           8.5    70   \n11  15.0          8         383.0         170    3563          10.0    70   \n\n    origin                 name  \n10       1   amc ambassador dpl  \n11       1  dodge challenger se  ",
      "text/html": "<div>\n<style scoped>\n    .dataframe tbody tr th:only-of-type {\n        vertical-align: middle;\n    }\n\n    .dataframe tbody tr th {\n        vertical-align: top;\n    }\n\n    .dataframe thead th {\n        text-align: right;\n    }\n</style>\n<table border=\"1\" class=\"dataframe\">\n  <thead>\n    <tr style=\"text-align: right;\">\n      <th></th>\n      <th>mpg</th>\n      <th>cylinders</th>\n      <th>displacement</th>\n      <th>horsepower</th>\n      <th>weight</th>\n      <th>acceleration</th>\n      <th>year</th>\n      <th>origin</th>\n      <th>name</th>\n    </tr>\n  </thead>\n  <tbody>\n    <tr>\n      <th>10</th>\n      <td>15.0</td>\n      <td>8</td>\n      <td>390.0</td>\n      <td>190</td>\n      <td>3850</td>\n      <td>8.5</td>\n      <td>70</td>\n      <td>1</td>\n      <td>amc ambassador dpl</td>\n    </tr>\n    <tr>\n      <th>11</th>\n      <td>15.0</td>\n      <td>8</td>\n      <td>383.0</td>\n      <td>170</td>\n      <td>3563</td>\n      <td>10.0</td>\n      <td>70</td>\n      <td>1</td>\n      <td>dodge challenger se</td>\n    </tr>\n  </tbody>\n</table>\n</div>"
     },
     "metadata": {},
     "execution_count": 7
    }
   ],
   "source": [
    "print (\"an example of access a row with iat and at\")\n",
    "print (\"notice the difference in the row actually returned\\n\")\n",
    "\n",
    "# single cell value by row index and column index\n",
    "print (\"accessing with iat index of [10, 3] which is row labeled 11 but index 10 from 0\")\n",
    "print (autoDataFrame.iat [10, 3])\n",
    "\n",
    "# single cell value by row index and column name\n",
    "# notice that the first value is the row index name not the 0-offset row index\n",
    "# this is very important difference.\n",
    "print (\"\\naccessing with at index of [10, \\\"horsepower\\\"] which is row labeled 10 but index 9\")\n",
    "print (autoDataFrame.at [10, \"horsepower\"])\n",
    "\n",
    "# rows 11 and 12, all columns\n",
    "autoDataFrame.iloc [9:11, :]"
   ]
  },
  {
   "cell_type": "markdown",
   "metadata": {},
   "source": [
    "### Dealing with Missing Data \n",
    "\n",
    "The example from R shows how we use `na.omit (dataFrame)` to exclude rows with missing data. We can use the `dropna` method on the data frame to achieve the same functionality in Python. This method can be used to remove rows that having missing values (`axis = 0`) or columns that have missing values (`axis = 1`). The `how` argument is used to determine if `any` missing values will initiate the drop or if `all` values on that slice must be missing to drop. The `thresh` argument, threshold, provides a threshold that require a minimum number of missing values before drop. The drop is by default no inplace and returned in a new data frame. \n",
    "\n",
    "The `pandas` library has a special `pandas.NA` data type for missing and the `numpy` library has `nan` for not a number for numeric columns that do not have valid numeric data. The `nan` cannot be used with integer columns, only with float. The `pandas.NA` can be used with both. The `dropna` function will drop both. \n",
    "\n",
    "```Python\n",
    "# remove missing values. \n",
    "DataFrame.dropna(self, axis=0, how='any', thresh=None, subset=None, inplace=False)[source]\n",
    "```\n",
    "\n",
    "```R\n",
    "# notice the reassignment back to the same variable as the changes are\n",
    "# not made in place.\n",
    "Auto = na.omit (Auto)\n",
    "dim (Auto)\n",
    " [1] 392 9\n",
    "\n",
    "# display the column names in the Auto data frame\n",
    "names (Auto)\n",
    "```"
   ]
  },
  {
   "cell_type": "code",
   "execution_count": 8,
   "metadata": {},
   "outputs": [
    {
     "output_type": "stream",
     "name": "stdout",
     "text": "auto data frame shape before drop: (392, 9)\n    cylinders  displacement  horsepower  weight  acceleration  year\n10          8         390.0         190    3850           8.5    70\n11          8         383.0         170    3563          10.0    70\n\nmissing values\n    cylinders  displacement horsepower  weight  acceleration  year\n10          8         390.0        190    3850           NaN    70\n11          8         383.0       <NA>    3563          10.0    70\n\nauto data frame shape after drop: (390, 9)\n"
    }
   ],
   "source": [
    "# copy the data frame for this example so we can repeat it \n",
    "autoDataFrame2 = autoDataFrame.copy ()\n",
    "\n",
    "# drop any rows that have missing values on any columns\n",
    "print (\"auto data frame shape before drop: ({0}, {1})\".format (autoDataFrame2.shape [0], autoDataFrame2.shape [1]))\n",
    "print (autoDataFrame2.iloc [9:11, 1:7])\n",
    "\n",
    "# let's remove some values, notice the special `NA` type\n",
    "autoDataFrame2.at [10, \"acceleration\"] = numpy.nan\n",
    "autoDataFrame2.at [11, \"horsepower\"] = pandas.NA\n",
    "\n",
    "print (\"\\nmissing values\")\n",
    "print (autoDataFrame2.iloc [9:11, 1:7])\n",
    "\n",
    "# drop the rows with missing values \n",
    "autoDataFrame2 = autoDataFrame2.dropna (axis = 0, how = \"any\", inplace = False)\n",
    "print (\"\\nauto data frame shape after drop: ({0}, {1})\".format (autoDataFrame2.shape [0], autoDataFrame2.shape [1]))"
   ]
  },
  {
   "cell_type": "code",
   "execution_count": 9,
   "metadata": {},
   "outputs": [
    {
     "output_type": "execute_result",
     "data": {
      "text/plain": "['mpg',\n 'cylinders',\n 'displacement',\n 'horsepower',\n 'weight',\n 'acceleration',\n 'year',\n 'origin',\n 'name']"
     },
     "metadata": {},
     "execution_count": 9
    }
   ],
   "source": [
    "# print column names as list \n",
    "autoDataFrame.columns.to_list ()"
   ]
  }
 ],
 "metadata": {
  "language_info": {
   "codemirror_mode": {
    "name": "ipython",
    "version": 3
   },
   "file_extension": ".py",
   "mimetype": "text/x-python",
   "name": "python",
   "nbconvert_exporter": "python",
   "pygments_lexer": "ipython3",
   "version": "3.8.2-final"
  },
  "orig_nbformat": 2,
  "kernelspec": {
   "name": "python38264bita9ab4c9f5bfd4fe1b70b825952675139",
   "display_name": "Python 3.8.2 64-bit"
  }
 },
 "nbformat": 4,
 "nbformat_minor": 2
}